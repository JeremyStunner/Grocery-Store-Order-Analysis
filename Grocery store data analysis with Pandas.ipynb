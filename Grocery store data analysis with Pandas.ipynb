{
 "cells": [
  {
   "cell_type": "code",
   "execution_count": 1,
   "id": "fe7705d3",
   "metadata": {},
   "outputs": [],
   "source": [
    "import pandas as pd"
   ]
  },
  {
   "cell_type": "code",
   "execution_count": 6,
   "id": "3f9b93ce",
   "metadata": {},
   "outputs": [
    {
     "data": {
      "text/plain": [
       "'C:\\\\Users\\\\HP'"
      ]
     },
     "execution_count": 6,
     "metadata": {},
     "output_type": "execute_result"
    }
   ],
   "source": [
    "pwd"
   ]
  },
  {
   "cell_type": "code",
   "execution_count": 13,
   "id": "25ee70de",
   "metadata": {},
   "outputs": [],
   "source": [
    " df = pd.read_csv('Grocery.csv')"
   ]
  },
  {
   "cell_type": "code",
   "execution_count": 14,
   "id": "b7ecc558",
   "metadata": {},
   "outputs": [
    {
     "data": {
      "text/html": [
       "<div>\n",
       "<style scoped>\n",
       "    .dataframe tbody tr th:only-of-type {\n",
       "        vertical-align: middle;\n",
       "    }\n",
       "\n",
       "    .dataframe tbody tr th {\n",
       "        vertical-align: top;\n",
       "    }\n",
       "\n",
       "    .dataframe thead th {\n",
       "        text-align: right;\n",
       "    }\n",
       "</style>\n",
       "<table border=\"1\" class=\"dataframe\">\n",
       "  <thead>\n",
       "    <tr style=\"text-align: right;\">\n",
       "      <th></th>\n",
       "      <th>Order ID</th>\n",
       "      <th>Customer Name</th>\n",
       "      <th>Category</th>\n",
       "      <th>Sub Category</th>\n",
       "      <th>City</th>\n",
       "      <th>Order Date</th>\n",
       "      <th>Region</th>\n",
       "      <th>Sales</th>\n",
       "      <th>Discount</th>\n",
       "      <th>Profit</th>\n",
       "      <th>State</th>\n",
       "    </tr>\n",
       "  </thead>\n",
       "  <tbody>\n",
       "    <tr>\n",
       "      <th>0</th>\n",
       "      <td>OD1</td>\n",
       "      <td>Harish</td>\n",
       "      <td>Oil &amp; Masala</td>\n",
       "      <td>Masalas</td>\n",
       "      <td>Vellore</td>\n",
       "      <td>11/8/2017</td>\n",
       "      <td>North</td>\n",
       "      <td>1254</td>\n",
       "      <td>0.12</td>\n",
       "      <td>401.28</td>\n",
       "      <td>Tamil Nadu</td>\n",
       "    </tr>\n",
       "    <tr>\n",
       "      <th>1</th>\n",
       "      <td>OD2</td>\n",
       "      <td>Sudha</td>\n",
       "      <td>Beverages</td>\n",
       "      <td>Health Drinks</td>\n",
       "      <td>Krishnagiri</td>\n",
       "      <td>11/8/2017</td>\n",
       "      <td>South</td>\n",
       "      <td>749</td>\n",
       "      <td>0.18</td>\n",
       "      <td>149.80</td>\n",
       "      <td>Tamil Nadu</td>\n",
       "    </tr>\n",
       "    <tr>\n",
       "      <th>2</th>\n",
       "      <td>OD3</td>\n",
       "      <td>Hussain</td>\n",
       "      <td>Food Grains</td>\n",
       "      <td>Atta &amp; Flour</td>\n",
       "      <td>Perambalur</td>\n",
       "      <td>6/12/2017</td>\n",
       "      <td>West</td>\n",
       "      <td>2360</td>\n",
       "      <td>0.21</td>\n",
       "      <td>165.20</td>\n",
       "      <td>Tamil Nadu</td>\n",
       "    </tr>\n",
       "    <tr>\n",
       "      <th>3</th>\n",
       "      <td>OD4</td>\n",
       "      <td>Jackson</td>\n",
       "      <td>Fruits &amp; Veggies</td>\n",
       "      <td>Fresh Vegetables</td>\n",
       "      <td>Dharmapuri</td>\n",
       "      <td>10/11/2016</td>\n",
       "      <td>South</td>\n",
       "      <td>896</td>\n",
       "      <td>0.25</td>\n",
       "      <td>89.60</td>\n",
       "      <td>Tamil Nadu</td>\n",
       "    </tr>\n",
       "    <tr>\n",
       "      <th>4</th>\n",
       "      <td>OD5</td>\n",
       "      <td>Ridhesh</td>\n",
       "      <td>Food Grains</td>\n",
       "      <td>Organic Staples</td>\n",
       "      <td>Ooty</td>\n",
       "      <td>10/11/2016</td>\n",
       "      <td>South</td>\n",
       "      <td>2355</td>\n",
       "      <td>0.26</td>\n",
       "      <td>918.45</td>\n",
       "      <td>Tamil Nadu</td>\n",
       "    </tr>\n",
       "    <tr>\n",
       "      <th>...</th>\n",
       "      <td>...</td>\n",
       "      <td>...</td>\n",
       "      <td>...</td>\n",
       "      <td>...</td>\n",
       "      <td>...</td>\n",
       "      <td>...</td>\n",
       "      <td>...</td>\n",
       "      <td>...</td>\n",
       "      <td>...</td>\n",
       "      <td>...</td>\n",
       "      <td>...</td>\n",
       "    </tr>\n",
       "    <tr>\n",
       "      <th>114</th>\n",
       "      <td>OD115</td>\n",
       "      <td>Muneer</td>\n",
       "      <td>Snacks</td>\n",
       "      <td>Noodles</td>\n",
       "      <td>Salem</td>\n",
       "      <td>8/25/2015</td>\n",
       "      <td>East</td>\n",
       "      <td>2420</td>\n",
       "      <td>0.11</td>\n",
       "      <td>242.00</td>\n",
       "      <td>Tamil Nadu</td>\n",
       "    </tr>\n",
       "    <tr>\n",
       "      <th>115</th>\n",
       "      <td>OD116</td>\n",
       "      <td>Rumaiza</td>\n",
       "      <td>Snacks</td>\n",
       "      <td>Chocolates</td>\n",
       "      <td>Karur</td>\n",
       "      <td>8/25/2015</td>\n",
       "      <td>East</td>\n",
       "      <td>1305</td>\n",
       "      <td>0.24</td>\n",
       "      <td>287.10</td>\n",
       "      <td>Tamil Nadu</td>\n",
       "    </tr>\n",
       "    <tr>\n",
       "      <th>116</th>\n",
       "      <td>OD117</td>\n",
       "      <td>Hussain</td>\n",
       "      <td>Fruits &amp; Veggies</td>\n",
       "      <td>Organic Fruits</td>\n",
       "      <td>Bodi</td>\n",
       "      <td>8/25/2015</td>\n",
       "      <td>East</td>\n",
       "      <td>927</td>\n",
       "      <td>0.20</td>\n",
       "      <td>157.59</td>\n",
       "      <td>Tamil Nadu</td>\n",
       "    </tr>\n",
       "    <tr>\n",
       "      <th>117</th>\n",
       "      <td>OD118</td>\n",
       "      <td>Arvind</td>\n",
       "      <td>Fruits &amp; Veggies</td>\n",
       "      <td>Organic Vegetables</td>\n",
       "      <td>Viluppuram</td>\n",
       "      <td>3/2/2016</td>\n",
       "      <td>West</td>\n",
       "      <td>983</td>\n",
       "      <td>0.11</td>\n",
       "      <td>186.77</td>\n",
       "      <td>Tamil Nadu</td>\n",
       "    </tr>\n",
       "    <tr>\n",
       "      <th>118</th>\n",
       "      <td>OD119</td>\n",
       "      <td>Akash</td>\n",
       "      <td>Food Grains</td>\n",
       "      <td>Rice</td>\n",
       "      <td>Chennai</td>\n",
       "      <td>4/5/2016</td>\n",
       "      <td>South</td>\n",
       "      <td>903</td>\n",
       "      <td>0.10</td>\n",
       "      <td>90.30</td>\n",
       "      <td>Tamil Nadu</td>\n",
       "    </tr>\n",
       "  </tbody>\n",
       "</table>\n",
       "<p>119 rows × 11 columns</p>\n",
       "</div>"
      ],
      "text/plain": [
       "    Order ID Customer Name          Category        Sub Category         City  \\\n",
       "0        OD1        Harish      Oil & Masala             Masalas      Vellore   \n",
       "1        OD2         Sudha         Beverages       Health Drinks  Krishnagiri   \n",
       "2        OD3       Hussain       Food Grains        Atta & Flour   Perambalur   \n",
       "3        OD4       Jackson  Fruits & Veggies    Fresh Vegetables   Dharmapuri   \n",
       "4        OD5       Ridhesh       Food Grains     Organic Staples         Ooty   \n",
       "..       ...           ...               ...                 ...          ...   \n",
       "114    OD115        Muneer            Snacks             Noodles        Salem   \n",
       "115    OD116       Rumaiza            Snacks          Chocolates        Karur   \n",
       "116    OD117       Hussain  Fruits & Veggies      Organic Fruits         Bodi   \n",
       "117    OD118        Arvind  Fruits & Veggies  Organic Vegetables   Viluppuram   \n",
       "118    OD119         Akash       Food Grains                Rice      Chennai   \n",
       "\n",
       "     Order Date Region  Sales  Discount  Profit       State  \n",
       "0     11/8/2017  North   1254      0.12  401.28  Tamil Nadu  \n",
       "1     11/8/2017  South    749      0.18  149.80  Tamil Nadu  \n",
       "2     6/12/2017   West   2360      0.21  165.20  Tamil Nadu  \n",
       "3    10/11/2016  South    896      0.25   89.60  Tamil Nadu  \n",
       "4    10/11/2016  South   2355      0.26  918.45  Tamil Nadu  \n",
       "..          ...    ...    ...       ...     ...         ...  \n",
       "114   8/25/2015   East   2420      0.11  242.00  Tamil Nadu  \n",
       "115   8/25/2015   East   1305      0.24  287.10  Tamil Nadu  \n",
       "116   8/25/2015   East    927      0.20  157.59  Tamil Nadu  \n",
       "117    3/2/2016   West    983      0.11  186.77  Tamil Nadu  \n",
       "118    4/5/2016  South    903      0.10   90.30  Tamil Nadu  \n",
       "\n",
       "[119 rows x 11 columns]"
      ]
     },
     "execution_count": 14,
     "metadata": {},
     "output_type": "execute_result"
    }
   ],
   "source": [
    "df"
   ]
  },
  {
   "cell_type": "code",
   "execution_count": 15,
   "id": "87663857",
   "metadata": {},
   "outputs": [
    {
     "data": {
      "text/html": [
       "<div>\n",
       "<style scoped>\n",
       "    .dataframe tbody tr th:only-of-type {\n",
       "        vertical-align: middle;\n",
       "    }\n",
       "\n",
       "    .dataframe tbody tr th {\n",
       "        vertical-align: top;\n",
       "    }\n",
       "\n",
       "    .dataframe thead th {\n",
       "        text-align: right;\n",
       "    }\n",
       "</style>\n",
       "<table border=\"1\" class=\"dataframe\">\n",
       "  <thead>\n",
       "    <tr style=\"text-align: right;\">\n",
       "      <th></th>\n",
       "      <th>Order ID</th>\n",
       "      <th>Customer Name</th>\n",
       "      <th>Category</th>\n",
       "      <th>Sub Category</th>\n",
       "      <th>City</th>\n",
       "      <th>Order Date</th>\n",
       "      <th>Region</th>\n",
       "      <th>Sales</th>\n",
       "      <th>Discount</th>\n",
       "      <th>Profit</th>\n",
       "      <th>State</th>\n",
       "    </tr>\n",
       "  </thead>\n",
       "  <tbody>\n",
       "    <tr>\n",
       "      <th>0</th>\n",
       "      <td>OD1</td>\n",
       "      <td>Harish</td>\n",
       "      <td>Oil &amp; Masala</td>\n",
       "      <td>Masalas</td>\n",
       "      <td>Vellore</td>\n",
       "      <td>11/8/2017</td>\n",
       "      <td>North</td>\n",
       "      <td>1254</td>\n",
       "      <td>0.12</td>\n",
       "      <td>401.28</td>\n",
       "      <td>Tamil Nadu</td>\n",
       "    </tr>\n",
       "    <tr>\n",
       "      <th>1</th>\n",
       "      <td>OD2</td>\n",
       "      <td>Sudha</td>\n",
       "      <td>Beverages</td>\n",
       "      <td>Health Drinks</td>\n",
       "      <td>Krishnagiri</td>\n",
       "      <td>11/8/2017</td>\n",
       "      <td>South</td>\n",
       "      <td>749</td>\n",
       "      <td>0.18</td>\n",
       "      <td>149.80</td>\n",
       "      <td>Tamil Nadu</td>\n",
       "    </tr>\n",
       "    <tr>\n",
       "      <th>2</th>\n",
       "      <td>OD3</td>\n",
       "      <td>Hussain</td>\n",
       "      <td>Food Grains</td>\n",
       "      <td>Atta &amp; Flour</td>\n",
       "      <td>Perambalur</td>\n",
       "      <td>6/12/2017</td>\n",
       "      <td>West</td>\n",
       "      <td>2360</td>\n",
       "      <td>0.21</td>\n",
       "      <td>165.20</td>\n",
       "      <td>Tamil Nadu</td>\n",
       "    </tr>\n",
       "    <tr>\n",
       "      <th>3</th>\n",
       "      <td>OD4</td>\n",
       "      <td>Jackson</td>\n",
       "      <td>Fruits &amp; Veggies</td>\n",
       "      <td>Fresh Vegetables</td>\n",
       "      <td>Dharmapuri</td>\n",
       "      <td>10/11/2016</td>\n",
       "      <td>South</td>\n",
       "      <td>896</td>\n",
       "      <td>0.25</td>\n",
       "      <td>89.60</td>\n",
       "      <td>Tamil Nadu</td>\n",
       "    </tr>\n",
       "    <tr>\n",
       "      <th>4</th>\n",
       "      <td>OD5</td>\n",
       "      <td>Ridhesh</td>\n",
       "      <td>Food Grains</td>\n",
       "      <td>Organic Staples</td>\n",
       "      <td>Ooty</td>\n",
       "      <td>10/11/2016</td>\n",
       "      <td>South</td>\n",
       "      <td>2355</td>\n",
       "      <td>0.26</td>\n",
       "      <td>918.45</td>\n",
       "      <td>Tamil Nadu</td>\n",
       "    </tr>\n",
       "  </tbody>\n",
       "</table>\n",
       "</div>"
      ],
      "text/plain": [
       "  Order ID Customer Name          Category      Sub Category         City  \\\n",
       "0      OD1        Harish      Oil & Masala           Masalas      Vellore   \n",
       "1      OD2         Sudha         Beverages     Health Drinks  Krishnagiri   \n",
       "2      OD3       Hussain       Food Grains      Atta & Flour   Perambalur   \n",
       "3      OD4       Jackson  Fruits & Veggies  Fresh Vegetables   Dharmapuri   \n",
       "4      OD5       Ridhesh       Food Grains   Organic Staples         Ooty   \n",
       "\n",
       "   Order Date Region  Sales  Discount  Profit       State  \n",
       "0   11/8/2017  North   1254      0.12  401.28  Tamil Nadu  \n",
       "1   11/8/2017  South    749      0.18  149.80  Tamil Nadu  \n",
       "2   6/12/2017   West   2360      0.21  165.20  Tamil Nadu  \n",
       "3  10/11/2016  South    896      0.25   89.60  Tamil Nadu  \n",
       "4  10/11/2016  South   2355      0.26  918.45  Tamil Nadu  "
      ]
     },
     "execution_count": 15,
     "metadata": {},
     "output_type": "execute_result"
    }
   ],
   "source": [
    "df.head()"
   ]
  },
  {
   "cell_type": "code",
   "execution_count": 16,
   "id": "63591862",
   "metadata": {},
   "outputs": [
    {
     "data": {
      "text/html": [
       "<div>\n",
       "<style scoped>\n",
       "    .dataframe tbody tr th:only-of-type {\n",
       "        vertical-align: middle;\n",
       "    }\n",
       "\n",
       "    .dataframe tbody tr th {\n",
       "        vertical-align: top;\n",
       "    }\n",
       "\n",
       "    .dataframe thead th {\n",
       "        text-align: right;\n",
       "    }\n",
       "</style>\n",
       "<table border=\"1\" class=\"dataframe\">\n",
       "  <thead>\n",
       "    <tr style=\"text-align: right;\">\n",
       "      <th></th>\n",
       "      <th>Order ID</th>\n",
       "      <th>Customer Name</th>\n",
       "      <th>Category</th>\n",
       "      <th>Sub Category</th>\n",
       "      <th>City</th>\n",
       "      <th>Order Date</th>\n",
       "      <th>Region</th>\n",
       "      <th>Sales</th>\n",
       "      <th>Discount</th>\n",
       "      <th>Profit</th>\n",
       "      <th>State</th>\n",
       "    </tr>\n",
       "  </thead>\n",
       "  <tbody>\n",
       "    <tr>\n",
       "      <th>114</th>\n",
       "      <td>OD115</td>\n",
       "      <td>Muneer</td>\n",
       "      <td>Snacks</td>\n",
       "      <td>Noodles</td>\n",
       "      <td>Salem</td>\n",
       "      <td>8/25/2015</td>\n",
       "      <td>East</td>\n",
       "      <td>2420</td>\n",
       "      <td>0.11</td>\n",
       "      <td>242.00</td>\n",
       "      <td>Tamil Nadu</td>\n",
       "    </tr>\n",
       "    <tr>\n",
       "      <th>115</th>\n",
       "      <td>OD116</td>\n",
       "      <td>Rumaiza</td>\n",
       "      <td>Snacks</td>\n",
       "      <td>Chocolates</td>\n",
       "      <td>Karur</td>\n",
       "      <td>8/25/2015</td>\n",
       "      <td>East</td>\n",
       "      <td>1305</td>\n",
       "      <td>0.24</td>\n",
       "      <td>287.10</td>\n",
       "      <td>Tamil Nadu</td>\n",
       "    </tr>\n",
       "    <tr>\n",
       "      <th>116</th>\n",
       "      <td>OD117</td>\n",
       "      <td>Hussain</td>\n",
       "      <td>Fruits &amp; Veggies</td>\n",
       "      <td>Organic Fruits</td>\n",
       "      <td>Bodi</td>\n",
       "      <td>8/25/2015</td>\n",
       "      <td>East</td>\n",
       "      <td>927</td>\n",
       "      <td>0.20</td>\n",
       "      <td>157.59</td>\n",
       "      <td>Tamil Nadu</td>\n",
       "    </tr>\n",
       "    <tr>\n",
       "      <th>117</th>\n",
       "      <td>OD118</td>\n",
       "      <td>Arvind</td>\n",
       "      <td>Fruits &amp; Veggies</td>\n",
       "      <td>Organic Vegetables</td>\n",
       "      <td>Viluppuram</td>\n",
       "      <td>3/2/2016</td>\n",
       "      <td>West</td>\n",
       "      <td>983</td>\n",
       "      <td>0.11</td>\n",
       "      <td>186.77</td>\n",
       "      <td>Tamil Nadu</td>\n",
       "    </tr>\n",
       "    <tr>\n",
       "      <th>118</th>\n",
       "      <td>OD119</td>\n",
       "      <td>Akash</td>\n",
       "      <td>Food Grains</td>\n",
       "      <td>Rice</td>\n",
       "      <td>Chennai</td>\n",
       "      <td>4/5/2016</td>\n",
       "      <td>South</td>\n",
       "      <td>903</td>\n",
       "      <td>0.10</td>\n",
       "      <td>90.30</td>\n",
       "      <td>Tamil Nadu</td>\n",
       "    </tr>\n",
       "  </tbody>\n",
       "</table>\n",
       "</div>"
      ],
      "text/plain": [
       "    Order ID Customer Name          Category        Sub Category        City  \\\n",
       "114    OD115        Muneer            Snacks             Noodles       Salem   \n",
       "115    OD116       Rumaiza            Snacks          Chocolates       Karur   \n",
       "116    OD117       Hussain  Fruits & Veggies      Organic Fruits        Bodi   \n",
       "117    OD118        Arvind  Fruits & Veggies  Organic Vegetables  Viluppuram   \n",
       "118    OD119         Akash       Food Grains                Rice     Chennai   \n",
       "\n",
       "    Order Date Region  Sales  Discount  Profit       State  \n",
       "114  8/25/2015   East   2420      0.11  242.00  Tamil Nadu  \n",
       "115  8/25/2015   East   1305      0.24  287.10  Tamil Nadu  \n",
       "116  8/25/2015   East    927      0.20  157.59  Tamil Nadu  \n",
       "117   3/2/2016   West    983      0.11  186.77  Tamil Nadu  \n",
       "118   4/5/2016  South    903      0.10   90.30  Tamil Nadu  "
      ]
     },
     "execution_count": 16,
     "metadata": {},
     "output_type": "execute_result"
    }
   ],
   "source": [
    "df.tail()"
   ]
  },
  {
   "cell_type": "code",
   "execution_count": 18,
   "id": "492f7ee7",
   "metadata": {},
   "outputs": [
    {
     "data": {
      "text/plain": [
       "1422.7478991596638"
      ]
     },
     "execution_count": 18,
     "metadata": {},
     "output_type": "execute_result"
    }
   ],
   "source": [
    "# Average Sales of all the customers\n",
    "df['Sales'].mean()"
   ]
  },
  {
   "cell_type": "code",
   "execution_count": 19,
   "id": "47bce156",
   "metadata": {},
   "outputs": [
    {
     "data": {
      "text/plain": [
       "2468"
      ]
     },
     "execution_count": 19,
     "metadata": {},
     "output_type": "execute_result"
    }
   ],
   "source": [
    "# highest sales \n",
    "df['Sales'].max()"
   ]
  },
  {
   "cell_type": "code",
   "execution_count": 23,
   "id": "1d91780e",
   "metadata": {},
   "outputs": [
    {
     "data": {
      "text/html": [
       "<div>\n",
       "<style scoped>\n",
       "    .dataframe tbody tr th:only-of-type {\n",
       "        vertical-align: middle;\n",
       "    }\n",
       "\n",
       "    .dataframe tbody tr th {\n",
       "        vertical-align: top;\n",
       "    }\n",
       "\n",
       "    .dataframe thead th {\n",
       "        text-align: right;\n",
       "    }\n",
       "</style>\n",
       "<table border=\"1\" class=\"dataframe\">\n",
       "  <thead>\n",
       "    <tr style=\"text-align: right;\">\n",
       "      <th></th>\n",
       "      <th>Order ID</th>\n",
       "      <th>Customer Name</th>\n",
       "      <th>Category</th>\n",
       "      <th>Sub Category</th>\n",
       "      <th>City</th>\n",
       "      <th>Order Date</th>\n",
       "      <th>Region</th>\n",
       "      <th>Sales</th>\n",
       "      <th>Discount</th>\n",
       "      <th>Profit</th>\n",
       "      <th>State</th>\n",
       "    </tr>\n",
       "  </thead>\n",
       "  <tbody>\n",
       "    <tr>\n",
       "      <th>2</th>\n",
       "      <td>OD3</td>\n",
       "      <td>Hussain</td>\n",
       "      <td>Food Grains</td>\n",
       "      <td>Atta &amp; Flour</td>\n",
       "      <td>Perambalur</td>\n",
       "      <td>6/12/2017</td>\n",
       "      <td>West</td>\n",
       "      <td>2360</td>\n",
       "      <td>0.21</td>\n",
       "      <td>165.20</td>\n",
       "      <td>Tamil Nadu</td>\n",
       "    </tr>\n",
       "    <tr>\n",
       "      <th>116</th>\n",
       "      <td>OD117</td>\n",
       "      <td>Hussain</td>\n",
       "      <td>Fruits &amp; Veggies</td>\n",
       "      <td>Organic Fruits</td>\n",
       "      <td>Bodi</td>\n",
       "      <td>8/25/2015</td>\n",
       "      <td>East</td>\n",
       "      <td>927</td>\n",
       "      <td>0.20</td>\n",
       "      <td>157.59</td>\n",
       "      <td>Tamil Nadu</td>\n",
       "    </tr>\n",
       "  </tbody>\n",
       "</table>\n",
       "</div>"
      ],
      "text/plain": [
       "    Order ID Customer Name          Category    Sub Category        City  \\\n",
       "2        OD3       Hussain       Food Grains    Atta & Flour  Perambalur   \n",
       "116    OD117       Hussain  Fruits & Veggies  Organic Fruits        Bodi   \n",
       "\n",
       "    Order Date Region  Sales  Discount  Profit       State  \n",
       "2    6/12/2017   West   2360      0.21  165.20  Tamil Nadu  \n",
       "116  8/25/2015   East    927      0.20  157.59  Tamil Nadu  "
      ]
     },
     "execution_count": 23,
     "metadata": {},
     "output_type": "execute_result"
    }
   ],
   "source": [
    "# what cities did Hussain order from\n",
    "df[df['Customer Name'] == 'Hussain']['City']"
   ]
  },
  {
   "cell_type": "code",
   "execution_count": 22,
   "id": "0cce0cc8",
   "metadata": {},
   "outputs": [
    {
     "data": {
      "text/plain": [
       "3287"
      ]
     },
     "execution_count": 22,
     "metadata": {},
     "output_type": "execute_result"
    }
   ],
   "source": [
    "# how much sales did Hussain's order generate\n",
    "df[df['Customer Name'] == 'Hussain']['Sales'].sum()"
   ]
  },
  {
   "cell_type": "code",
   "execution_count": 24,
   "id": "4d390de0",
   "metadata": {},
   "outputs": [
    {
     "data": {
      "text/plain": [
       "490.99"
      ]
     },
     "execution_count": 24,
     "metadata": {},
     "output_type": "execute_result"
    }
   ],
   "source": [
    "# how much profit did Jackson's order generate\n",
    "df[df['Customer Name'] == 'Jackson']['Profit'].sum()"
   ]
  },
  {
   "cell_type": "code",
   "execution_count": 28,
   "id": "0fca838b",
   "metadata": {},
   "outputs": [
    {
     "data": {
      "text/plain": [
       "26"
      ]
     },
     "execution_count": 28,
     "metadata": {},
     "output_type": "execute_result"
    }
   ],
   "source": [
    "# How many orders were made from the East\n",
    "df[df['Region'] == 'East']['Order ID'].count()"
   ]
  },
  {
   "cell_type": "code",
   "execution_count": 29,
   "id": "c2b0fa93",
   "metadata": {},
   "outputs": [
    {
     "data": {
      "text/plain": [
       "8994.37"
      ]
     },
     "execution_count": 29,
     "metadata": {},
     "output_type": "execute_result"
    }
   ],
   "source": [
    "# how much profit was made from the East\n",
    "df[df['Region'] == 'East']['Profit'].sum()"
   ]
  },
  {
   "cell_type": "code",
   "execution_count": 30,
   "id": "3c5ab529",
   "metadata": {},
   "outputs": [
    {
     "data": {
      "text/plain": [
       "36490"
      ]
     },
     "execution_count": 30,
     "metadata": {},
     "output_type": "execute_result"
    }
   ],
   "source": [
    "# how much sales was made from the East\n",
    "df[df['Region'] == 'East']['Sales'].sum()"
   ]
  },
  {
   "cell_type": "code",
   "execution_count": 31,
   "id": "b8640d22",
   "metadata": {},
   "outputs": [
    {
     "data": {
      "text/plain": [
       "34"
      ]
     },
     "execution_count": 31,
     "metadata": {},
     "output_type": "execute_result"
    }
   ],
   "source": [
    "# How many orders were made from the West\n",
    "df[df['Region'] == 'West']['Order ID'].count()"
   ]
  },
  {
   "cell_type": "code",
   "execution_count": 32,
   "id": "a75d2f9c",
   "metadata": {},
   "outputs": [
    {
     "data": {
      "text/plain": [
       "10765.33"
      ]
     },
     "execution_count": 32,
     "metadata": {},
     "output_type": "execute_result"
    }
   ],
   "source": [
    "# how much profit was made from the West\n",
    "df[df['Region'] == 'West']['Profit'].sum()"
   ]
  },
  {
   "cell_type": "code",
   "execution_count": 33,
   "id": "12103750",
   "metadata": {},
   "outputs": [
    {
     "data": {
      "text/plain": [
       "44839"
      ]
     },
     "execution_count": 33,
     "metadata": {},
     "output_type": "execute_result"
    }
   ],
   "source": [
    "# how much sales was made from the West\n",
    "df[df['Region'] == 'West']['Sales'].sum()"
   ]
  },
  {
   "cell_type": "code",
   "execution_count": 34,
   "id": "150fc74c",
   "metadata": {},
   "outputs": [
    {
     "data": {
      "text/plain": [
       "17"
      ]
     },
     "execution_count": 34,
     "metadata": {},
     "output_type": "execute_result"
    }
   ],
   "source": [
    "# How many orders were made from the South\n",
    "df[df['Region'] == 'South']['Order ID'].count()"
   ]
  },
  {
   "cell_type": "code",
   "execution_count": 35,
   "id": "36330606",
   "metadata": {},
   "outputs": [
    {
     "data": {
      "text/plain": [
       "7168.72"
      ]
     },
     "execution_count": 35,
     "metadata": {},
     "output_type": "execute_result"
    }
   ],
   "source": [
    "# how much profit was made from the South\n",
    "df[df['Region'] == 'South']['Profit'].sum()"
   ]
  },
  {
   "cell_type": "code",
   "execution_count": 36,
   "id": "f90e7b1f",
   "metadata": {},
   "outputs": [
    {
     "data": {
      "text/plain": [
       "25611"
      ]
     },
     "execution_count": 36,
     "metadata": {},
     "output_type": "execute_result"
    }
   ],
   "source": [
    "# how much sales was made from the South\n",
    "df[df['Region'] == 'South']['Sales'].sum()"
   ]
  },
  {
   "cell_type": "code",
   "execution_count": 37,
   "id": "3fc904d2",
   "metadata": {},
   "outputs": [
    {
     "data": {
      "text/plain": [
       "1"
      ]
     },
     "execution_count": 37,
     "metadata": {},
     "output_type": "execute_result"
    }
   ],
   "source": [
    "# How many orders were made from the North\n",
    "df[df['Region'] == 'North']['Order ID'].count()"
   ]
  },
  {
   "cell_type": "code",
   "execution_count": 38,
   "id": "09353fe3",
   "metadata": {},
   "outputs": [
    {
     "data": {
      "text/plain": [
       "401.28"
      ]
     },
     "execution_count": 38,
     "metadata": {},
     "output_type": "execute_result"
    }
   ],
   "source": [
    "# how much profit was made from the North\n",
    "df[df['Region'] == 'North']['Profit'].sum()"
   ]
  },
  {
   "cell_type": "code",
   "execution_count": 39,
   "id": "b2d863aa",
   "metadata": {},
   "outputs": [
    {
     "data": {
      "text/plain": [
       "1254"
      ]
     },
     "execution_count": 39,
     "metadata": {},
     "output_type": "execute_result"
    }
   ],
   "source": [
    "# how much sales was made from the North\n",
    "df[df['Region'] == 'North']['Sales'].sum()"
   ]
  },
  {
   "cell_type": "code",
   "execution_count": 40,
   "id": "17bfd0ae",
   "metadata": {},
   "outputs": [
    {
     "data": {
      "text/html": [
       "<div>\n",
       "<style scoped>\n",
       "    .dataframe tbody tr th:only-of-type {\n",
       "        vertical-align: middle;\n",
       "    }\n",
       "\n",
       "    .dataframe tbody tr th {\n",
       "        vertical-align: top;\n",
       "    }\n",
       "\n",
       "    .dataframe thead th {\n",
       "        text-align: right;\n",
       "    }\n",
       "</style>\n",
       "<table border=\"1\" class=\"dataframe\">\n",
       "  <thead>\n",
       "    <tr style=\"text-align: right;\">\n",
       "      <th></th>\n",
       "      <th>Order ID</th>\n",
       "      <th>Customer Name</th>\n",
       "      <th>Category</th>\n",
       "      <th>Sub Category</th>\n",
       "      <th>City</th>\n",
       "      <th>Order Date</th>\n",
       "      <th>Region</th>\n",
       "      <th>Sales</th>\n",
       "      <th>Discount</th>\n",
       "      <th>Profit</th>\n",
       "      <th>State</th>\n",
       "    </tr>\n",
       "  </thead>\n",
       "  <tbody>\n",
       "    <tr>\n",
       "      <th>71</th>\n",
       "      <td>OD72</td>\n",
       "      <td>Yusuf</td>\n",
       "      <td>Snacks</td>\n",
       "      <td>Noodles</td>\n",
       "      <td>Kanyakumari</td>\n",
       "      <td>9/14/2018</td>\n",
       "      <td>Central</td>\n",
       "      <td>2468</td>\n",
       "      <td>0.18</td>\n",
       "      <td>1011.88</td>\n",
       "      <td>Tamil Nadu</td>\n",
       "    </tr>\n",
       "  </tbody>\n",
       "</table>\n",
       "</div>"
      ],
      "text/plain": [
       "   Order ID Customer Name Category Sub Category         City Order Date  \\\n",
       "71     OD72         Yusuf   Snacks      Noodles  Kanyakumari  9/14/2018   \n",
       "\n",
       "     Region  Sales  Discount   Profit       State  \n",
       "71  Central   2468      0.18  1011.88  Tamil Nadu  "
      ]
     },
     "execution_count": 40,
     "metadata": {},
     "output_type": "execute_result"
    }
   ],
   "source": [
    "# Customer with the highest sales order\n",
    "df[df['Sales']== df['Sales'].max()]"
   ]
  },
  {
   "cell_type": "code",
   "execution_count": 41,
   "id": "b6e239e3",
   "metadata": {},
   "outputs": [
    {
     "data": {
      "text/html": [
       "<div>\n",
       "<style scoped>\n",
       "    .dataframe tbody tr th:only-of-type {\n",
       "        vertical-align: middle;\n",
       "    }\n",
       "\n",
       "    .dataframe tbody tr th {\n",
       "        vertical-align: top;\n",
       "    }\n",
       "\n",
       "    .dataframe thead th {\n",
       "        text-align: right;\n",
       "    }\n",
       "</style>\n",
       "<table border=\"1\" class=\"dataframe\">\n",
       "  <thead>\n",
       "    <tr style=\"text-align: right;\">\n",
       "      <th></th>\n",
       "      <th>Order ID</th>\n",
       "      <th>Customer Name</th>\n",
       "      <th>Category</th>\n",
       "      <th>Sub Category</th>\n",
       "      <th>City</th>\n",
       "      <th>Order Date</th>\n",
       "      <th>Region</th>\n",
       "      <th>Sales</th>\n",
       "      <th>Discount</th>\n",
       "      <th>Profit</th>\n",
       "      <th>State</th>\n",
       "    </tr>\n",
       "  </thead>\n",
       "  <tbody>\n",
       "    <tr>\n",
       "      <th>20</th>\n",
       "      <td>OD21</td>\n",
       "      <td>Hafiz</td>\n",
       "      <td>Beverages</td>\n",
       "      <td>Health Drinks</td>\n",
       "      <td>Vellore</td>\n",
       "      <td>8/27/2015</td>\n",
       "      <td>West</td>\n",
       "      <td>522</td>\n",
       "      <td>0.19</td>\n",
       "      <td>208.8</td>\n",
       "      <td>Tamil Nadu</td>\n",
       "    </tr>\n",
       "  </tbody>\n",
       "</table>\n",
       "</div>"
      ],
      "text/plain": [
       "   Order ID Customer Name   Category   Sub Category     City Order Date  \\\n",
       "20     OD21         Hafiz  Beverages  Health Drinks  Vellore  8/27/2015   \n",
       "\n",
       "   Region  Sales  Discount  Profit       State  \n",
       "20   West    522      0.19   208.8  Tamil Nadu  "
      ]
     },
     "execution_count": 41,
     "metadata": {},
     "output_type": "execute_result"
    }
   ],
   "source": [
    "# Customer with the lowest sales order\n",
    "df[df['Sales']== df['Sales'].min()]"
   ]
  },
  {
   "cell_type": "code",
   "execution_count": 42,
   "id": "9fa51be0",
   "metadata": {},
   "outputs": [
    {
     "data": {
      "text/plain": [
       "Willams    6\n",
       "Sharon     6\n",
       "Mathew     4\n",
       "Muneer     4\n",
       "Arvind     4\n",
       "Name: Customer Name, dtype: int64"
      ]
     },
     "execution_count": 42,
     "metadata": {},
     "output_type": "execute_result"
    }
   ],
   "source": [
    "# top 5 names with the most orders \n",
    "df['Customer Name'].value_counts().head(5)"
   ]
  },
  {
   "cell_type": "code",
   "execution_count": 68,
   "id": "2db08803",
   "metadata": {},
   "outputs": [
    {
     "data": {
      "text/plain": [
       "Customer Name\n",
       "Adavan      4423\n",
       "Akash       3066\n",
       "Alan        4316\n",
       "Amrish      2922\n",
       "Amy         3752\n",
       "Anu         3856\n",
       "Arutra      3485\n",
       "Arvind      6418\n",
       "Esther      1662\n",
       "Ganesh      1903\n",
       "Hafiz       3160\n",
       "Harish      1254\n",
       "Haseena     3183\n",
       "Hussain     3287\n",
       "Jackson     1875\n",
       "James        934\n",
       "Jonas       2577\n",
       "Komal       3744\n",
       "Krithika    7170\n",
       "Kumar       2027\n",
       "Malik        660\n",
       "Mathew      6484\n",
       "Muneer      7135\n",
       "Peer        2509\n",
       "Ram         2257\n",
       "Ramesh      6242\n",
       "Ravi        6637\n",
       "Ridhesh     3081\n",
       "Roshan      5356\n",
       "Rumaiza     1305\n",
       "Sabeela     3310\n",
       "Shah        3295\n",
       "Sharon      7396\n",
       "Sheeba      2111\n",
       "Shree       3300\n",
       "Sudeep       921\n",
       "Sudha       4022\n",
       "Sundar      2858\n",
       "Suresh      3715\n",
       "Veena       5157\n",
       "Verma       1686\n",
       "Veronica    3477\n",
       "Vidya       2931\n",
       "Vince       3721\n",
       "Vinne       3089\n",
       "Willams     6101\n",
       "Yadav        701\n",
       "Yusuf       4836\n",
       "Name: Sales, dtype: int64"
      ]
     },
     "execution_count": 68,
     "metadata": {},
     "output_type": "execute_result"
    }
   ],
   "source": [
    "# customers with the cumulative sales\n",
    "df.groupby('Customer Name').sum()['Sales']"
   ]
  },
  {
   "cell_type": "code",
   "execution_count": 65,
   "id": "8582b383",
   "metadata": {},
   "outputs": [
    {
     "data": {
      "text/plain": [
       "48"
      ]
     },
     "execution_count": 65,
     "metadata": {},
     "output_type": "execute_result"
    }
   ],
   "source": [
    "# how many unique customers are there\n",
    "df['Customer Name'].nunique()"
   ]
  },
  {
   "cell_type": "code",
   "execution_count": 71,
   "id": "884b8392",
   "metadata": {},
   "outputs": [
    {
     "data": {
      "text/plain": [
       "Category\n",
       "Bakery               16031\n",
       "Beverages            28863\n",
       "Eggs, Meat & Fish    20178\n",
       "Food Grains          28654\n",
       "Fruits & Veggies     29609\n",
       "Oil & Masala         18519\n",
       "Snacks               27453\n",
       "Name: Sales, dtype: int64"
      ]
     },
     "execution_count": 71,
     "metadata": {},
     "output_type": "execute_result"
    }
   ],
   "source": [
    "# Products with the highest sales generated\n",
    "df.groupby('Category').sum()['Sales']"
   ]
  },
  {
   "cell_type": "code",
   "execution_count": 78,
   "id": "877d47b5",
   "metadata": {},
   "outputs": [
    {
     "data": {
      "text/plain": [
       "Customer Name\n",
       "Adavan      1233.44\n",
       "Akash        760.83\n",
       "Alan         544.68\n",
       "Amrish      1147.19\n",
       "Amy         1293.79\n",
       "Anu          907.58\n",
       "Arutra       729.63\n",
       "Arvind       490.67\n",
       "Esther       214.14\n",
       "Ganesh       437.69\n",
       "Hafiz        538.49\n",
       "Harish       401.28\n",
       "Haseena      599.72\n",
       "Hussain      322.79\n",
       "Jackson      490.99\n",
       "James         56.04\n",
       "Jonas        627.08\n",
       "Komal        577.62\n",
       "Krithika    1668.57\n",
       "Kumar        912.15\n",
       "Malik         92.40\n",
       "Mathew      2288.48\n",
       "Muneer      1662.36\n",
       "Peer         618.25\n",
       "Ram          270.84\n",
       "Ramesh      1009.69\n",
       "Ravi        1647.55\n",
       "Ridhesh      962.01\n",
       "Roshan      1863.13\n",
       "Rumaiza      287.10\n",
       "Sabeela     1448.60\n",
       "Shah         622.67\n",
       "Sharon      2318.11\n",
       "Sheeba       189.99\n",
       "Shree        949.89\n",
       "Sudeep       184.20\n",
       "Sudha        972.83\n",
       "Sundar       821.33\n",
       "Suresh      1544.40\n",
       "Veena       1259.49\n",
       "Verma        517.00\n",
       "Veronica    1068.29\n",
       "Vidya        630.68\n",
       "Vince        746.17\n",
       "Vinne        628.05\n",
       "Willams     1819.60\n",
       "Yadav        308.44\n",
       "Yusuf       1855.29\n",
       "Name: Profit, dtype: float64"
      ]
     },
     "execution_count": 78,
     "metadata": {},
     "output_type": "execute_result"
    }
   ],
   "source": [
    "df.groupby('Customer Name').sum()['Profit']"
   ]
  },
  {
   "cell_type": "code",
   "execution_count": 80,
   "id": "f0450992",
   "metadata": {},
   "outputs": [
    {
     "data": {
      "text/plain": [
       "Customer Name\n",
       "Adavan      2\n",
       "Akash       2\n",
       "Alan        4\n",
       "Amrish      2\n",
       "Amy         3\n",
       "Anu         3\n",
       "Arutra      2\n",
       "Arvind      4\n",
       "Esther      2\n",
       "Ganesh      1\n",
       "Hafiz       3\n",
       "Harish      1\n",
       "Haseena     3\n",
       "Hussain     2\n",
       "Jackson     2\n",
       "James       1\n",
       "Jonas       2\n",
       "Komal       3\n",
       "Krithika    4\n",
       "Kumar       1\n",
       "Malik       1\n",
       "Mathew      4\n",
       "Muneer      4\n",
       "Peer        2\n",
       "Ram         1\n",
       "Ramesh      4\n",
       "Ravi        3\n",
       "Ridhesh     2\n",
       "Roshan      4\n",
       "Rumaiza     1\n",
       "Sabeela     2\n",
       "Shah        2\n",
       "Sharon      6\n",
       "Sheeba      1\n",
       "Shree       2\n",
       "Sudeep      1\n",
       "Sudha       3\n",
       "Sundar      3\n",
       "Suresh      2\n",
       "Veena       3\n",
       "Verma       2\n",
       "Veronica    2\n",
       "Vidya       2\n",
       "Vince       2\n",
       "Vinne       3\n",
       "Willams     6\n",
       "Yadav       1\n",
       "Yusuf       3\n",
       "Name: Order ID, dtype: int64"
      ]
     },
     "execution_count": 80,
     "metadata": {},
     "output_type": "execute_result"
    }
   ],
   "source": [
    "df.groupby('Customer Name').count()['Order ID']"
   ]
  },
  {
   "cell_type": "code",
   "execution_count": 82,
   "id": "8b3531f1",
   "metadata": {},
   "outputs": [
    {
     "data": {
      "text/plain": [
       "Customer Name\n",
       "Adavan      0.61\n",
       "Akash       0.36\n",
       "Alan        0.97\n",
       "Amrish      0.32\n",
       "Amy         0.66\n",
       "Anu         0.97\n",
       "Arutra      0.37\n",
       "Arvind      0.61\n",
       "Esther      0.57\n",
       "Ganesh      0.13\n",
       "Hafiz       0.74\n",
       "Harish      0.12\n",
       "Haseena     0.89\n",
       "Hussain     0.41\n",
       "Jackson     0.47\n",
       "James       0.35\n",
       "Jonas       0.52\n",
       "Komal       0.93\n",
       "Krithika    0.76\n",
       "Kumar       0.34\n",
       "Malik       0.19\n",
       "Mathew      0.89\n",
       "Muneer      0.63\n",
       "Peer        0.39\n",
       "Ram         0.33\n",
       "Ramesh      0.84\n",
       "Ravi        0.55\n",
       "Ridhesh     0.44\n",
       "Roshan      0.75\n",
       "Rumaiza     0.24\n",
       "Sabeela     0.45\n",
       "Shah        0.47\n",
       "Sharon      1.31\n",
       "Sheeba      0.21\n",
       "Shree       0.28\n",
       "Sudeep      0.25\n",
       "Sudha       0.58\n",
       "Sundar      0.46\n",
       "Suresh      0.45\n",
       "Veena       0.74\n",
       "Verma       0.60\n",
       "Veronica    0.34\n",
       "Vidya       0.42\n",
       "Vince       0.47\n",
       "Vinne       0.39\n",
       "Willams     1.64\n",
       "Yadav       0.10\n",
       "Yusuf       0.82\n",
       "Name: Discount, dtype: float64"
      ]
     },
     "execution_count": 82,
     "metadata": {},
     "output_type": "execute_result"
    }
   ],
   "source": [
    "df.groupby('Customer Name').sum()['Discount']"
   ]
  },
  {
   "cell_type": "code",
   "execution_count": 83,
   "id": "2d4ae5d8",
   "metadata": {},
   "outputs": [
    {
     "data": {
      "text/plain": [
       "Category\n",
       "Bakery               3844.90\n",
       "Beverages            7147.16\n",
       "Eggs, Meat & Fish    6711.87\n",
       "Food Grains          7289.60\n",
       "Fruits & Veggies     6158.04\n",
       "Oil & Masala         4484.65\n",
       "Snacks               6904.99\n",
       "Name: Profit, dtype: float64"
      ]
     },
     "execution_count": 83,
     "metadata": {},
     "output_type": "execute_result"
    }
   ],
   "source": [
    "df.groupby('Category').sum()['Profit']"
   ]
  },
  {
   "cell_type": "code",
   "execution_count": 84,
   "id": "1f9c3fc4",
   "metadata": {},
   "outputs": [
    {
     "data": {
      "text/plain": [
       "City\n",
       "Bodi              2138.26\n",
       "Chennai           2618.00\n",
       "Coimbatore        3021.39\n",
       "Cumbum            1215.05\n",
       "Dharmapuri        3195.15\n",
       "Dindigul          1557.05\n",
       "Kanyakumari       2860.61\n",
       "Karur             1807.19\n",
       "Krishnagiri       2345.92\n",
       "Madurai           2291.74\n",
       "Nagercoil          745.97\n",
       "Namakkal          1177.26\n",
       "Ooty              3228.30\n",
       "Perambalur         644.65\n",
       "Pudukottai         664.96\n",
       "Ramanadhapuram     778.69\n",
       "Salem             2232.26\n",
       "Tenkasi            464.06\n",
       "Theni              815.78\n",
       "Tirunelveli       2052.02\n",
       "Trichy            2463.66\n",
       "Vellore           1768.59\n",
       "Viluppuram        1331.00\n",
       "Virudhunagar      1123.65\n",
       "Name: Profit, dtype: float64"
      ]
     },
     "execution_count": 84,
     "metadata": {},
     "output_type": "execute_result"
    }
   ],
   "source": [
    "df.groupby('City').sum()['Profit']"
   ]
  },
  {
   "cell_type": "code",
   "execution_count": 85,
   "id": "8f0d108e",
   "metadata": {},
   "outputs": [
    {
     "data": {
      "text/plain": [
       "City\n",
       "Bodi               9118\n",
       "Chennai            9715\n",
       "Coimbatore         8303\n",
       "Cumbum             3575\n",
       "Dharmapuri        14611\n",
       "Dindigul           5943\n",
       "Kanyakumari       10853\n",
       "Karur              6456\n",
       "Krishnagiri        8880\n",
       "Madurai            9717\n",
       "Nagercoil          2742\n",
       "Namakkal           5105\n",
       "Ooty               9821\n",
       "Perambalur         5177\n",
       "Pudukottai         4106\n",
       "Ramanadhapuram     4170\n",
       "Salem             10780\n",
       "Tenkasi            2726\n",
       "Theni              3897\n",
       "Tirunelveli        6994\n",
       "Trichy             8756\n",
       "Vellore            9044\n",
       "Viluppuram         4919\n",
       "Virudhunagar       3899\n",
       "Name: Sales, dtype: int64"
      ]
     },
     "execution_count": 85,
     "metadata": {},
     "output_type": "execute_result"
    }
   ],
   "source": [
    "df.groupby('City').sum()['Sales']"
   ]
  },
  {
   "cell_type": "code",
   "execution_count": null,
   "id": "8fb5c0b5",
   "metadata": {},
   "outputs": [],
   "source": []
  }
 ],
 "metadata": {
  "kernelspec": {
   "display_name": "Python 3",
   "language": "python",
   "name": "python3"
  },
  "language_info": {
   "codemirror_mode": {
    "name": "ipython",
    "version": 3
   },
   "file_extension": ".py",
   "mimetype": "text/x-python",
   "name": "python",
   "nbconvert_exporter": "python",
   "pygments_lexer": "ipython3",
   "version": "3.8.8"
  }
 },
 "nbformat": 4,
 "nbformat_minor": 5
}
